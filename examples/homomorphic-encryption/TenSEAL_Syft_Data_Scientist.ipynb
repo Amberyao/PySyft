{
 "cells": [
  {
   "cell_type": "code",
   "execution_count": null,
   "metadata": {},
   "outputs": [],
   "source": [
    "%%capture\n",
    "!pip install tenseal"
   ]
  },
  {
   "cell_type": "code",
   "execution_count": null,
   "metadata": {},
   "outputs": [],
   "source": [
    "import syft as sy\n",
    "duet = sy.join_duet(loopback=True)"
   ]
  },
  {
   "cell_type": "code",
   "execution_count": null,
   "metadata": {},
   "outputs": [],
   "source": [
    "import tenseal as ts"
   ]
  },
  {
   "cell_type": "code",
   "execution_count": null,
   "metadata": {},
   "outputs": [],
   "source": [
    "duet.store.pandas"
   ]
  },
  {
   "cell_type": "code",
   "execution_count": null,
   "metadata": {},
   "outputs": [],
   "source": [
    "enc_v1 = duet.store[\"enc_v1\"]\n",
    "enc_v2 = duet.store[\"enc_v2\"]"
   ]
  },
  {
   "cell_type": "code",
   "execution_count": null,
   "metadata": {},
   "outputs": [],
   "source": [
    "result_enc_ptr = enc_v1 + enc_v2"
   ]
  },
  {
   "cell_type": "code",
   "execution_count": null,
   "metadata": {},
   "outputs": [],
   "source": [
    "result_dec_ptr = result_enc_ptr.decrypt()\n",
    "# TODO: make tenseal._ts_cpp.CKKSVector serializable\n",
    "result = result_dec_ptr.get(\n",
    "    request_block=True,\n",
    "    name=\"decrypt\",\n",
    "    reason=\"Can you decrypt it?\",\n",
    "    timeout_secs=10,\n",
    "    delete_obj=False\n",
    ")\n",
    "result  # ~ [4, 4, 4, 4, 4]"
   ]
  },
  {
   "cell_type": "code",
   "execution_count": null,
   "metadata": {},
   "outputs": [],
   "source": [
    "result_enc_ptr2 = enc_v1.dot(enc_v2)"
   ]
  },
  {
   "cell_type": "code",
   "execution_count": null,
   "metadata": {},
   "outputs": [],
   "source": [
    "result_dec_ptr2 = result_enc_ptr2.decrypt()\n",
    "# TODO: make tenseal._ts_cpp.CKKSVector serializable\n",
    "result2 = result_dec_ptr2.get(\n",
    "    request_block=True,\n",
    "    name=\"decrypt\",\n",
    "    reason=\"Can you decrypt it?\",\n",
    "    timeout_secs=10,\n",
    "    delete_obj=False\n",
    ")\n",
    "result2  # ~ [10]"
   ]
  },
  {
   "cell_type": "code",
   "execution_count": null,
   "metadata": {},
   "outputs": [],
   "source": [
    "matrix = [\n",
    "  [73, 0.5, 8],\n",
    "  [81, -5, 66],\n",
    "  [-100, -78, -2],\n",
    "  [0, 9, 17],\n",
    "  [69, 11 , 10],\n",
    "]"
   ]
  },
  {
   "cell_type": "code",
   "execution_count": null,
   "metadata": {},
   "outputs": [],
   "source": [
    "result_enc_ptr3 = enc_v1.matmul(matrix)"
   ]
  },
  {
   "cell_type": "code",
   "execution_count": null,
   "metadata": {},
   "outputs": [],
   "source": [
    "# TODO: make tenseal._ts_cpp.CKKSVector serializable\n",
    "result_dec_ptr3 = result_enc_ptr3.decrypt()\n",
    "result3 = result_dec_ptr3.get(\n",
    "    request_block=True,\n",
    "    name=\"decrypt\",\n",
    "    reason=\"Can you decrypt it?\",\n",
    "    timeout_secs=10,\n",
    "    delete_obj=False\n",
    ")\n",
    "result3  # ~ [157, -90, 153]"
   ]
  }
 ],
 "metadata": {
  "kernelspec": {
   "display_name": "Python 3",
   "language": "python",
   "name": "python3"
  },
  "language_info": {
   "codemirror_mode": {
    "name": "ipython",
    "version": 3
   },
   "file_extension": ".py",
   "mimetype": "text/x-python",
   "name": "python",
   "nbconvert_exporter": "python",
   "pygments_lexer": "ipython3",
   "version": "3.7.8"
  }
 },
 "nbformat": 4,
 "nbformat_minor": 4
}
